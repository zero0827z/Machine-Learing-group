{
 "cells": [
  {
   "cell_type": "markdown",
   "metadata": {},
   "source": [
    "## [作業重點]\n",
    "了解如何使用 Sklearn 中的 hyper-parameter search 找出最佳的超參數"
   ]
  },
  {
   "cell_type": "markdown",
   "metadata": {},
   "source": [
    "### 作業\n",
    "請使用不同的資料集，並使用 hyper-parameter search 的方式，看能不能找出最佳的超參數組合"
   ]
  },
  {
   "cell_type": "code",
   "execution_count": 1,
   "metadata": {},
   "outputs": [],
   "source": [
    "from sklearn import datasets, metrics\n",
    "from sklearn.model_selection import train_test_split, KFold, GridSearchCV\n",
    "from sklearn.ensemble import GradientBoostingRegressor"
   ]
  },
  {
   "cell_type": "code",
   "execution_count": 2,
   "metadata": {},
   "outputs": [
    {
     "output_type": "stream",
     "name": "stdout",
     "text": "0.0507760378523421\n"
    }
   ],
   "source": [
    "#load data\n",
    "wine=datasets.load_wine()\n",
    "\n",
    "#Split data\n",
    "x_train, x_test, y_train, y_test=train_test_split(wine.data,wine.target,test_size=0.25,random_state=40)\n",
    "\n",
    "# 梯度提升提升模型\n",
    "clf=GradientBoostingRegressor(random_state=7)\n",
    "\n",
    "#fit model\n",
    "clf.fit(x_train,y_train)\n",
    "\n",
    "# predict y\n",
    "y_pred=clf.predict(x_test)\n",
    "print(metrics.mean_squared_error(y_test,y_pred))\n",
    "\n"
   ]
  },
  {
   "cell_type": "code",
   "execution_count": 3,
   "metadata": {},
   "outputs": [
    {
     "output_type": "stream",
     "name": "stdout",
     "text": "Fitting 5 folds for each of 9 candidates, totalling 45 fits\n[Parallel(n_jobs=-1)]: Using backend LokyBackend with 12 concurrent workers.\n[Parallel(n_jobs=-1)]: Done  45 out of  45 | elapsed:    3.9s finished\n"
    }
   ],
   "source": [
    "# set hyper-parament search\n",
    "n_estimators=[100,200,300]\n",
    "max_depth=[1,3,5]\n",
    "param_grid=dict(n_estimators=n_estimators,max_depth=max_depth)\n",
    "\n",
    "#Build Object search,hyper-parament\n",
    "grid_search= GridSearchCV(clf, param_grid,scoring='neg_mean_squared_error',n_jobs=-1,verbose=1)\n",
    "\n",
    "#Find Best parament\n",
    "grid_result=grid_search.fit(x_train,y_train)\n",
    "\n"
   ]
  },
  {
   "cell_type": "code",
   "execution_count": 4,
   "metadata": {},
   "outputs": [
    {
     "output_type": "stream",
     "name": "stdout",
     "text": "Best Accuracy: -0.056536 using {'max_depth': 3, 'n_estimators': 200}\n"
    }
   ],
   "source": [
    "#print The best parament\n",
    "print('Best Accuracy: %f using %s' % (grid_result.best_score_,grid_result.best_params_))"
   ]
  },
  {
   "cell_type": "code",
   "execution_count": 7,
   "metadata": {},
   "outputs": [
    {
     "output_type": "stream",
     "name": "stdout",
     "text": "MSE: 0.05368574968116475\n"
    }
   ],
   "source": [
    "#using the best paranment to re-build model\n",
    "clf_bestparament=GradientBoostingRegressor(max_depth=grid_result.best_params_['max_depth'],n_estimators=grid_result.best_params_['n_estimators'])\n",
    "\n",
    "#Train Model\n",
    "clf_bestparament.fit(x_train, y_train)\n",
    "\n",
    "# preditct y\n",
    "y_pred=clf_bestparament.predict(x_test)\n",
    "\n",
    "#print MSE\n",
    "print('MSE:' , metrics.mean_squared_error(y_test,y_pred))"
   ]
  },
  {
   "cell_type": "code",
   "execution_count": null,
   "metadata": {},
   "outputs": [],
   "source": []
  }
 ],
 "metadata": {
  "kernelspec": {
   "display_name": "Python 3.8.2 64-bit",
   "language": "python",
   "name": "python38264bit3aa85e905e81479f963b5b188efc9345"
  },
  "language_info": {
   "codemirror_mode": {
    "name": "ipython",
    "version": 3
   },
   "file_extension": ".py",
   "mimetype": "text/x-python",
   "name": "python",
   "nbconvert_exporter": "python",
   "pygments_lexer": "ipython3",
   "version": "3.8.2-final"
  }
 },
 "nbformat": 4,
 "nbformat_minor": 2
}