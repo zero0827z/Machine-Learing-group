{
 "cells": [
  {
   "cell_type": "markdown",
   "metadata": {},
   "source": [
    "## 練習時間"
   ]
  },
  {
   "cell_type": "markdown",
   "metadata": {},
   "source": [
    "請觀看李宏毅教授以神奇寶貝進化 CP 值預測的範例，解說何謂機器學習與過擬合。並回答以下問題"
   ]
  },
  {
   "cell_type": "markdown",
   "metadata": {},
   "source": [
    "[youtube](https://www.youtube.com/watch?v=fegAeph9UaA)"
   ]
  },
  {
   "cell_type": "markdown",
   "metadata": {},
   "source": [
    "### 1. 模型的泛化能力 (generalization) 是指什麼？ \n",
    "### 2. 分類問題與回歸問題分別可用的目標函數有哪些？"
   ]
  },
  {
   "cell_type": "code",
   "execution_count": 2,
   "metadata": {},
   "outputs": [
    {
     "output_type": "stream",
     "name": "stdout",
     "text": "問題1:\n指的是我們利用training data配適出來的模型參數，是否有良好的樣本外預測能力。\n問題2:\n分類問題可利用目標所具有的相同特徵數值，來辨別目標。EX.身高高於平均值2倍的人->性別是男生\n回歸問題則是為了要避免overfitting跟underfitting的問題，可利用Mean Square Error或 Root Mean Square Error來當作目標函數。\n"
    }
   ],
   "source": [
    "print('問題1:')\n",
    "print('指的是我們利用training data配適出來的模型參數，是否有良好的樣本外預測能力。')\n",
    "print('問題2:')\n",
    "print('分類問題可利用目標所具有的相同特徵數值，來辨別目標。EX.身高高於平均值2倍的人->性別是男生')\n",
    "print('回歸問題則是為了要避免overfitting跟underfitting的問題，可利用Mean Square Error或 Root Mean Square Error來當作目標函數。')"
   ]
  },
  {
   "cell_type": "code",
   "execution_count": null,
   "metadata": {},
   "outputs": [],
   "source": []
  }
 ],
 "metadata": {
  "kernelspec": {
   "display_name": "Python 3.8.2 64-bit",
   "language": "python",
   "name": "python38264bit3aa85e905e81479f963b5b188efc9345"
  },
  "language_info": {
   "codemirror_mode": {
    "name": "ipython",
    "version": 3
   },
   "file_extension": ".py",
   "mimetype": "text/x-python",
   "name": "python",
   "nbconvert_exporter": "python",
   "pygments_lexer": "ipython3",
   "version": "3.8.2-final"
  }
 },
 "nbformat": 4,
 "nbformat_minor": 2
}