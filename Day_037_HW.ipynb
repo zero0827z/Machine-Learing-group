{
 "cells": [
  {
   "cell_type": "markdown",
   "metadata": {},
   "source": [
    "## [作業重點]\n",
    "了解線性回歸的模型發展歷程，並了解優勢與劣勢，以及其使用情境"
   ]
  },
  {
   "cell_type": "markdown",
   "metadata": {},
   "source": [
    "## 作業"
   ]
  },
  {
   "cell_type": "markdown",
   "metadata": {},
   "source": [
    "請閱讀以下相關文獻，並回答以下問題\n",
    "\n",
    "[Linear Regression 詳細介紹](https://brohrer.mcknote.com/zh-Hant/how_machine_learning_works/how_linear_regression_works.html)\n",
    "\n",
    "[Logistics Regression 詳細介紹](https://medium.com/@yehjames/%E8%B3%87%E6%96%99%E5%88%86%E6%9E%90-%E6%A9%9F%E5%99%A8%E5%AD%B8%E7%BF%92-%E7%AC%AC3-3%E8%AC%9B-%E7%B7%9A%E6%80%A7%E5%88%86%E9%A1%9E-%E9%82%8F%E8%BC%AF%E6%96%AF%E5%9B%9E%E6%AD%B8-logistic-regression-%E4%BB%8B%E7%B4%B9-a1a5f47017e5)\n"
   ]
  },
  {
   "cell_type": "markdown",
   "metadata": {},
   "source": [
    "1. 線性回歸模型能夠準確預測非線性關係的資料集嗎?\n",
    "2. 回歸模型是否對資料分布有基本假設?\n"
   ]
  },
  {
   "cell_type": "code",
   "execution_count": 2,
   "metadata": {},
   "outputs": [
    {
     "output_type": "stream",
     "name": "stdout",
     "text": "不能，很容易會因為outlayer的觀察值，而影響線性模型的參數，進而導致殘差項與MAE/MSE的增加\n若是希望利用線性模型來預測，在滿足高斯馬可夫的假設下，Linear Regression會具有BLUE的性質，此時使用最小平方法的線性模型，就可以找到最小MAE與MSE的參數了。 BLUE包含:參數性線、同質變異、隨機樣本、常態假設、非完全共線性、zero-Conditional-mean\n"
    }
   ],
   "source": [
    "print('不能，很容易會因為outlayer的觀察值，而影響線性模型的參數，進而導致殘差項與MAE/MSE的增加')\n",
    "print('若是希望利用線性模型來預測，在滿足高斯馬可夫的假設下，Linear Regression會具有BLUE的性質，此時使用最小平方法的線性模型，就可以找到最小MAE與MSE的參數了。 BLUE包含:參數性線、同質變異、隨機樣本、常態假設、非完全共線性、zero-Conditional-mean')"
   ]
  },
  {
   "cell_type": "code",
   "execution_count": null,
   "metadata": {},
   "outputs": [],
   "source": []
  }
 ],
 "metadata": {
  "kernelspec": {
   "display_name": "Python 3.8.2 64-bit",
   "language": "python",
   "name": "python38264bit3aa85e905e81479f963b5b188efc9345"
  },
  "language_info": {
   "codemirror_mode": {
    "name": "ipython",
    "version": 3
   },
   "file_extension": ".py",
   "mimetype": "text/x-python",
   "name": "python",
   "nbconvert_exporter": "python",
   "pygments_lexer": "ipython3",
   "version": "3.8.2-final"
  }
 },
 "nbformat": 4,
 "nbformat_minor": 2
}